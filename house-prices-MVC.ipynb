{
 "cells": [
  {
   "cell_type": "code",
   "execution_count": 1,
   "id": "eb157efc",
   "metadata": {},
   "outputs": [],
   "source": [
    "%matplotlib inline"
   ]
  },
  {
   "cell_type": "code",
   "execution_count": 2,
   "id": "00fed718",
   "metadata": {},
   "outputs": [
    {
     "name": "stderr",
     "output_type": "stream",
     "text": [
      "/Users/marinelafargue/PycharmProjects/pythonProject/House-Prices-Project/data.py:18: SettingWithCopyWarning: \n",
      "A value is trying to be set on a copy of a slice from a DataFrame.\n",
      "Try using .loc[row_indexer,col_indexer] = value instead\n",
      "\n",
      "See the caveats in the documentation: https://pandas.pydata.org/pandas-docs/stable/user_guide/indexing.html#returning-a-view-versus-a-copy\n",
      "  train_2['MasVnrArea'] = train_2['MasVnrArea'].replace(0.0, train_2['MasVnrArea'].mean())\n"
     ]
    }
   ],
   "source": [
    "from data import *\n",
    "from model import *\n",
    "from view import *"
   ]
  },
  {
   "cell_type": "markdown",
   "id": "5633f658",
   "metadata": {},
   "source": [
    "# house price refacto"
   ]
  },
  {
   "cell_type": "markdown",
   "id": "ef14fb26",
   "metadata": {},
   "source": [
    "## data"
   ]
  },
  {
   "cell_type": "code",
   "execution_count": 3,
   "id": "33e5a5cd",
   "metadata": {},
   "outputs": [
    {
     "data": {
      "text/html": [
       "<div>\n",
       "<style scoped>\n",
       "    .dataframe tbody tr th:only-of-type {\n",
       "        vertical-align: middle;\n",
       "    }\n",
       "\n",
       "    .dataframe tbody tr th {\n",
       "        vertical-align: top;\n",
       "    }\n",
       "\n",
       "    .dataframe thead th {\n",
       "        text-align: right;\n",
       "    }\n",
       "</style>\n",
       "<table border=\"1\" class=\"dataframe\">\n",
       "  <thead>\n",
       "    <tr style=\"text-align: right;\">\n",
       "      <th></th>\n",
       "      <th>SalePrice</th>\n",
       "      <th>OverallQual</th>\n",
       "      <th>YearRemodAdd</th>\n",
       "      <th>MasVnrArea</th>\n",
       "    </tr>\n",
       "  </thead>\n",
       "  <tbody>\n",
       "    <tr>\n",
       "      <th>0</th>\n",
       "      <td>208500</td>\n",
       "      <td>7</td>\n",
       "      <td>2003</td>\n",
       "      <td>196.000000</td>\n",
       "    </tr>\n",
       "    <tr>\n",
       "      <th>1</th>\n",
       "      <td>181500</td>\n",
       "      <td>6</td>\n",
       "      <td>1976</td>\n",
       "      <td>103.423973</td>\n",
       "    </tr>\n",
       "    <tr>\n",
       "      <th>2</th>\n",
       "      <td>223500</td>\n",
       "      <td>7</td>\n",
       "      <td>2002</td>\n",
       "      <td>162.000000</td>\n",
       "    </tr>\n",
       "    <tr>\n",
       "      <th>3</th>\n",
       "      <td>140000</td>\n",
       "      <td>7</td>\n",
       "      <td>1970</td>\n",
       "      <td>103.423973</td>\n",
       "    </tr>\n",
       "    <tr>\n",
       "      <th>4</th>\n",
       "      <td>250000</td>\n",
       "      <td>8</td>\n",
       "      <td>2000</td>\n",
       "      <td>350.000000</td>\n",
       "    </tr>\n",
       "    <tr>\n",
       "      <th>...</th>\n",
       "      <td>...</td>\n",
       "      <td>...</td>\n",
       "      <td>...</td>\n",
       "      <td>...</td>\n",
       "    </tr>\n",
       "    <tr>\n",
       "      <th>1455</th>\n",
       "      <td>175000</td>\n",
       "      <td>6</td>\n",
       "      <td>2000</td>\n",
       "      <td>103.423973</td>\n",
       "    </tr>\n",
       "    <tr>\n",
       "      <th>1456</th>\n",
       "      <td>210000</td>\n",
       "      <td>6</td>\n",
       "      <td>1988</td>\n",
       "      <td>119.000000</td>\n",
       "    </tr>\n",
       "    <tr>\n",
       "      <th>1457</th>\n",
       "      <td>266500</td>\n",
       "      <td>7</td>\n",
       "      <td>2006</td>\n",
       "      <td>103.423973</td>\n",
       "    </tr>\n",
       "    <tr>\n",
       "      <th>1458</th>\n",
       "      <td>142125</td>\n",
       "      <td>5</td>\n",
       "      <td>1996</td>\n",
       "      <td>103.423973</td>\n",
       "    </tr>\n",
       "    <tr>\n",
       "      <th>1459</th>\n",
       "      <td>147500</td>\n",
       "      <td>5</td>\n",
       "      <td>1965</td>\n",
       "      <td>103.423973</td>\n",
       "    </tr>\n",
       "  </tbody>\n",
       "</table>\n",
       "<p>1460 rows × 4 columns</p>\n",
       "</div>"
      ],
      "text/plain": [
       "      SalePrice  OverallQual  YearRemodAdd  MasVnrArea\n",
       "0        208500            7          2003  196.000000\n",
       "1        181500            6          1976  103.423973\n",
       "2        223500            7          2002  162.000000\n",
       "3        140000            7          1970  103.423973\n",
       "4        250000            8          2000  350.000000\n",
       "...         ...          ...           ...         ...\n",
       "1455     175000            6          2000  103.423973\n",
       "1456     210000            6          1988  119.000000\n",
       "1457     266500            7          2006  103.423973\n",
       "1458     142125            5          1996  103.423973\n",
       "1459     147500            5          1965  103.423973\n",
       "\n",
       "[1460 rows x 4 columns]"
      ]
     },
     "execution_count": 3,
     "metadata": {},
     "output_type": "execute_result"
    }
   ],
   "source": [
    "train_2"
   ]
  },
  {
   "cell_type": "code",
   "execution_count": 4,
   "id": "1e68747b",
   "metadata": {},
   "outputs": [
    {
     "data": {
      "text/html": [
       "<div>\n",
       "<style scoped>\n",
       "    .dataframe tbody tr th:only-of-type {\n",
       "        vertical-align: middle;\n",
       "    }\n",
       "\n",
       "    .dataframe tbody tr th {\n",
       "        vertical-align: top;\n",
       "    }\n",
       "\n",
       "    .dataframe thead th {\n",
       "        text-align: right;\n",
       "    }\n",
       "</style>\n",
       "<table border=\"1\" class=\"dataframe\">\n",
       "  <thead>\n",
       "    <tr style=\"text-align: right;\">\n",
       "      <th></th>\n",
       "      <th>SalePrice</th>\n",
       "      <th>OverallQual</th>\n",
       "      <th>YearRemodAdd</th>\n",
       "      <th>MasVnrArea</th>\n",
       "    </tr>\n",
       "  </thead>\n",
       "  <tbody>\n",
       "    <tr>\n",
       "      <th>SalePrice</th>\n",
       "      <td>1.000000</td>\n",
       "      <td>0.790982</td>\n",
       "      <td>0.507101</td>\n",
       "      <td>0.447039</td>\n",
       "    </tr>\n",
       "    <tr>\n",
       "      <th>OverallQual</th>\n",
       "      <td>0.790982</td>\n",
       "      <td>1.000000</td>\n",
       "      <td>0.550684</td>\n",
       "      <td>0.361045</td>\n",
       "    </tr>\n",
       "    <tr>\n",
       "      <th>YearRemodAdd</th>\n",
       "      <td>0.507101</td>\n",
       "      <td>0.550684</td>\n",
       "      <td>1.000000</td>\n",
       "      <td>0.137193</td>\n",
       "    </tr>\n",
       "    <tr>\n",
       "      <th>MasVnrArea</th>\n",
       "      <td>0.447039</td>\n",
       "      <td>0.361045</td>\n",
       "      <td>0.137193</td>\n",
       "      <td>1.000000</td>\n",
       "    </tr>\n",
       "  </tbody>\n",
       "</table>\n",
       "</div>"
      ],
      "text/plain": [
       "              SalePrice  OverallQual  YearRemodAdd  MasVnrArea\n",
       "SalePrice      1.000000     0.790982      0.507101    0.447039\n",
       "OverallQual    0.790982     1.000000      0.550684    0.361045\n",
       "YearRemodAdd   0.507101     0.550684      1.000000    0.137193\n",
       "MasVnrArea     0.447039     0.361045      0.137193    1.000000"
      ]
     },
     "execution_count": 4,
     "metadata": {},
     "output_type": "execute_result"
    }
   ],
   "source": [
    "train_2.corr()"
   ]
  },
  {
   "cell_type": "markdown",
   "id": "4c621de5",
   "metadata": {},
   "source": [
    "## View"
   ]
  },
  {
   "cell_type": "code",
   "execution_count": 5,
   "id": "eb2eec42",
   "metadata": {},
   "outputs": [
    {
     "data": {
      "image/png": "[encoded data removed]",
      "text/plain": [
       "<Figure size 360x360 with 1 Axes>"
      ]
     },
     "metadata": {
      "needs_background": "light"
     },
     "output_type": "display_data"
    }
   ],
   "source": [
    "distrib()"
   ]
  },
  {
   "cell_type": "code",
   "execution_count": 6,
   "id": "d36ce0cd",
   "metadata": {},
   "outputs": [
    {
     "data": {
      "image/png": "[encoded data removed]",
      "text/plain": [
       "<Figure size 864x648 with 2 Axes>"
      ]
     },
     "metadata": {
      "needs_background": "light"
     },
     "output_type": "display_data"
    }
   ],
   "source": [
    "heatmap()"
   ]
  },
  {
   "cell_type": "code",
   "execution_count": 7,
   "id": "0bdfa61a",
   "metadata": {},
   "outputs": [
    {
     "data": {
      "image/png": "[encoded data removed]",
      "text/plain": [
       "<Figure size 360x360 with 1 Axes>"
      ]
     },
     "metadata": {
      "needs_background": "light"
     },
     "output_type": "display_data"
    }
   ],
   "source": [
    "regplot()"
   ]
  },
  {
   "cell_type": "markdown",
   "id": "6a105649",
   "metadata": {},
   "source": [
    "## model"
   ]
  },
  {
   "cell_type": "markdown",
   "id": "7fada6fc",
   "metadata": {},
   "source": [
    "### statmodels"
   ]
  },
  {
   "cell_type": "code",
   "execution_count": 8,
   "id": "63da8fe8",
   "metadata": {},
   "outputs": [
    {
     "data": {
      "text/html": [
       "<table class=\"simpletable\">\n",
       "<caption>OLS Regression Results</caption>\n",
       "<tr>\n",
       "  <th>Dep. Variable:</th>        <td>SalePrice</td>    <th>  R-squared:         </th> <td>   0.656</td> \n",
       "</tr>\n",
       "<tr>\n",
       "  <th>Model:</th>                   <td>OLS</td>       <th>  Adj. R-squared:    </th> <td>   0.655</td> \n",
       "</tr>\n",
       "<tr>\n",
       "  <th>Method:</th>             <td>Least Squares</td>  <th>  F-statistic:       </th> <td>   1387.</td> \n",
       "</tr>\n",
       "<tr>\n",
       "  <th>Date:</th>             <td>Thu, 20 May 2021</td> <th>  Prob (F-statistic):</th>  <td>  0.00</td>  \n",
       "</tr>\n",
       "<tr>\n",
       "  <th>Time:</th>                 <td>16:23:46</td>     <th>  Log-Likelihood:    </th> <td> -17766.</td> \n",
       "</tr>\n",
       "<tr>\n",
       "  <th>No. Observations:</th>      <td>  1460</td>      <th>  AIC:               </th> <td>3.554e+04</td>\n",
       "</tr>\n",
       "<tr>\n",
       "  <th>Df Residuals:</th>          <td>  1457</td>      <th>  BIC:               </th> <td>3.555e+04</td>\n",
       "</tr>\n",
       "<tr>\n",
       "  <th>Df Model:</th>              <td>     2</td>      <th>                     </th>     <td> </td>    \n",
       "</tr>\n",
       "<tr>\n",
       "  <th>Covariance Type:</th>      <td>nonrobust</td>    <th>                     </th>     <td> </td>    \n",
       "</tr>\n",
       "</table>\n",
       "<table class=\"simpletable\">\n",
       "<tr>\n",
       "       <td></td>          <th>coef</th>     <th>std err</th>      <th>t</th>      <th>P>|t|</th>  <th>[0.025</th>    <th>0.975]</th>  \n",
       "</tr>\n",
       "<tr>\n",
       "  <th>Intercept</th>   <td>-8.891e+04</td> <td> 5560.873</td> <td>  -15.989</td> <td> 0.000</td> <td>-9.98e+04</td> <td> -7.8e+04</td>\n",
       "</tr>\n",
       "<tr>\n",
       "  <th>OverallQual</th> <td> 4.159e+04</td> <td>  946.988</td> <td>   43.913</td> <td> 0.000</td> <td> 3.97e+04</td> <td> 4.34e+04</td>\n",
       "</tr>\n",
       "<tr>\n",
       "  <th>MasVnrArea</th>  <td>   98.2176</td> <td>    8.721</td> <td>   11.262</td> <td> 0.000</td> <td>   81.110</td> <td>  115.325</td>\n",
       "</tr>\n",
       "</table>\n",
       "<table class=\"simpletable\">\n",
       "<tr>\n",
       "  <th>Omnibus:</th>       <td>489.528</td> <th>  Durbin-Watson:     </th> <td>   1.971</td>\n",
       "</tr>\n",
       "<tr>\n",
       "  <th>Prob(Omnibus):</th> <td> 0.000</td>  <th>  Jarque-Bera (JB):  </th> <td>4866.384</td>\n",
       "</tr>\n",
       "<tr>\n",
       "  <th>Skew:</th>          <td> 1.267</td>  <th>  Prob(JB):          </th> <td>    0.00</td>\n",
       "</tr>\n",
       "<tr>\n",
       "  <th>Kurtosis:</th>      <td>11.577</td>  <th>  Cond. No.          </th> <td>1.03e+03</td>\n",
       "</tr>\n",
       "</table><br/><br/>Notes:<br/>[1] Standard Errors assume that the covariance matrix of the errors is correctly specified.<br/>[2] The condition number is large, 1.03e+03. This might indicate that there are<br/>strong multicollinearity or other numerical problems."
      ],
      "text/plain": [
       "<class 'statsmodels.iolib.summary.Summary'>\n",
       "\"\"\"\n",
       "                            OLS Regression Results                            \n",
       "==============================================================================\n",
       "Dep. Variable:              SalePrice   R-squared:                       0.656\n",
       "Model:                            OLS   Adj. R-squared:                  0.655\n",
       "Method:                 Least Squares   F-statistic:                     1387.\n",
       "Date:                Thu, 20 May 2021   Prob (F-statistic):               0.00\n",
       "Time:                        16:23:46   Log-Likelihood:                -17766.\n",
       "No. Observations:                1460   AIC:                         3.554e+04\n",
       "Df Residuals:                    1457   BIC:                         3.555e+04\n",
       "Df Model:                           2                                         \n",
       "Covariance Type:            nonrobust                                         \n",
       "===============================================================================\n",
       "                  coef    std err          t      P>|t|      [0.025      0.975]\n",
       "-------------------------------------------------------------------------------\n",
       "Intercept   -8.891e+04   5560.873    -15.989      0.000   -9.98e+04    -7.8e+04\n",
       "OverallQual  4.159e+04    946.988     43.913      0.000    3.97e+04    4.34e+04\n",
       "MasVnrArea     98.2176      8.721     11.262      0.000      81.110     115.325\n",
       "==============================================================================\n",
       "Omnibus:                      489.528   Durbin-Watson:                   1.971\n",
       "Prob(Omnibus):                  0.000   Jarque-Bera (JB):             4866.384\n",
       "Skew:                           1.267   Prob(JB):                         0.00\n",
       "Kurtosis:                      11.577   Cond. No.                     1.03e+03\n",
       "==============================================================================\n",
       "\n",
       "Notes:\n",
       "[1] Standard Errors assume that the covariance matrix of the errors is correctly specified.\n",
       "[2] The condition number is large, 1.03e+03. This might indicate that there are\n",
       "strong multicollinearity or other numerical problems.\n",
       "\"\"\""
      ]
     },
     "execution_count": 8,
     "metadata": {},
     "output_type": "execute_result"
    }
   ],
   "source": [
    "res.summary()"
   ]
  },
  {
   "cell_type": "raw",
   "id": "d331fb31",
   "metadata": {},
   "source": [
    "observation:\n",
    "R carré a 0,656 acceptable mais pas optimal\n",
    "mes p values sont bonne étant a 0\n",
    "j'affiche le coef des parametres de mon model"
   ]
  },
  {
   "cell_type": "code",
   "execution_count": 9,
   "id": "28cf0e28",
   "metadata": {},
   "outputs": [
    {
     "name": "stdout",
     "output_type": "stream",
     "text": [
      "Parameters:  Intercept     -88911.242564\n",
      "OverallQual    41585.353528\n",
      "MasVnrArea        98.217577\n",
      "dtype: float64\n",
      "R2:  0.6556282500007278\n"
     ]
    }
   ],
   "source": [
    "print('Parameters: ', res.params)\n",
    "print('R2: ', res.rsquared)"
   ]
  },
  {
   "cell_type": "markdown",
   "id": "42e4cf15",
   "metadata": {},
   "source": [
    "### programme de prediction du prix par la superficie et la qualite sur 10"
   ]
  },
  {
   "cell_type": "code",
   "execution_count": 10,
   "id": "dc616fe9",
   "metadata": {},
   "outputs": [
    {
     "name": "stdout",
     "output_type": "stream",
     "text": [
      "cette propriété sera vendu entre 112957.38 et 231620.16 selon notre model\n"
     ]
    }
   ],
   "source": [
    "print(prediction_mpg(OverallQual=6, MasVnrArea=119.000000))"
   ]
  },
  {
   "cell_type": "markdown",
   "id": "3478eb55",
   "metadata": {},
   "source": [
    "### verification de la prediction du model sur l ID: 0"
   ]
  },
  {
   "cell_type": "code",
   "execution_count": 11,
   "id": "1a12cf1e",
   "metadata": {},
   "outputs": [
    {
     "name": "stdout",
     "output_type": "stream",
     "text": [
      " Le prix de la propriete de l id 0 selon notre model est: 221436.88 au lieu de 208000\n"
     ]
    }
   ],
   "source": [
    "prediction_mpg_one()"
   ]
  },
  {
   "cell_type": "markdown",
   "id": "39a5ce44",
   "metadata": {},
   "source": [
    "### sickit learn"
   ]
  },
  {
   "cell_type": "code",
   "execution_count": 12,
   "id": "11aedb46",
   "metadata": {},
   "outputs": [
    {
     "data": {
      "text/plain": [
       "0.6556282500007278"
      ]
     },
     "execution_count": 12,
     "metadata": {},
     "output_type": "execute_result"
    }
   ],
   "source": [
    "reg.score(X, y)"
   ]
  },
  {
   "cell_type": "code",
   "execution_count": 13,
   "id": "bbc13c1f",
   "metadata": {},
   "outputs": [
    {
     "name": "stdout",
     "output_type": "stream",
     "text": [
      " la valeur du prix de la propriété avec l'id 0 est dans mon dataframe de 208500$\n",
      " Avec ma prediction sklearn le prix est de [202873.75516908] $\n"
     ]
    }
   ],
   "source": [
    "pred_OverallQual = 7\n",
    "pred_MasVnrArea = 196.0\n",
    "reg.predict([[pred_OverallQual, pred_OverallQual]])\n",
    "\n",
    "print(f\" la valeur du prix de la propriété avec l'id 0 est dans mon dataframe de 208500$\")\n",
    "print(f\" Avec ma prediction sklearn le prix est de {reg.predict([[pred_OverallQual, pred_OverallQual]])} $\")"
   ]
  },
  {
   "cell_type": "code",
   "execution_count": null,
   "id": "dcb4fd34",
   "metadata": {},
   "outputs": [],
   "source": []
  }
 ],
 "metadata": {
  "kernelspec": {
   "display_name": "Python 3",
   "language": "python",
   "name": "python3"
  },
  "language_info": {
   "codemirror_mode": {
    "name": "ipython",
    "version": 3
   },
   "file_extension": ".py",
   "mimetype": "text/x-python",
   "name": "python",
   "nbconvert_exporter": "python",
   "pygments_lexer": "ipython3",
   "version": "3.8.6"
  },
  "toc": {
   "base_numbering": 1,
   "nav_menu": {},
   "number_sections": true,
   "sideBar": true,
   "skip_h1_title": false,
   "title_cell": "Table of Contents",
   "title_sidebar": "Contents",
   "toc_cell": false,
   "toc_position": {},
   "toc_section_display": true,
   "toc_window_display": false
  }
 },
 "nbformat": 4,
 "nbformat_minor": 5
}
